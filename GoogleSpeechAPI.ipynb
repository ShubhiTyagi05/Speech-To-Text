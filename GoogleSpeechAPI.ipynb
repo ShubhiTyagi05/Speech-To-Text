{
 "cells": [
  {
   "cell_type": "code",
   "execution_count": 18,
   "metadata": {},
   "outputs": [
    {
     "name": "stdout",
     "output_type": "stream",
     "text": [
      "Collecting pafy\n",
      "  Downloading pafy-0.5.3.1.tar.gz\n",
      "Building wheels for collected packages: pafy\n",
      "  Running setup.py bdist_wheel for pafy: started\n",
      "  Running setup.py bdist_wheel for pafy: finished with status 'done'\n",
      "  Stored in directory: C:\\Users\\Shubhi Tyagi\\AppData\\Local\\pip\\Cache\\wheels\\1d\\81\\dc\\0cb0b1eea7b67d3d85e52764f8de1cebc0800e7c7bca8480c6\n",
      "Successfully built pafy\n",
      "Installing collected packages: pafy\n",
      "Successfully installed pafy-0.5.3.1\n"
     ]
    }
   ],
   "source": [
    "#!pip install SpeechRecognition\n",
    "#!pip install pyaudio\n",
    "!pip install pafy"
   ]
  },
  {
   "cell_type": "markdown",
   "metadata": {},
   "source": [
    "Python 2.x program to transcribe an Audio file"
   ]
  },
  {
   "cell_type": "code",
   "execution_count": 13,
   "metadata": {},
   "outputs": [
    {
     "name": "stdout",
     "output_type": "stream",
     "text": [
      "The audio file contains: to administer medicine to animals is we can give very difficult matter and yet sometimes it necessary to do self\n"
     ]
    }
   ],
   "source": [
    "#This works for WAV, AIFF, FLAC files\n",
    "import speech_recognition as sr\n",
    "AUDIO_FILE = (\"C:\\Users\\Shubhi Tyagi\\Documents\\JupyterNotebooks\\SpeechToText\\Samples\\woman1_nb.wav\")\n",
    " \n",
    "# use the audio file as the audio source\n",
    " \n",
    "r = sr.Recognizer()\n",
    " \n",
    "with sr.AudioFile(AUDIO_FILE) as source:\n",
    "    #reads the audio file. Here we use record instead of\n",
    "    #listen\n",
    "    audio = r.record(source)  \n",
    " \n",
    "try:\n",
    "    print(\"The audio file contains: \" + r.recognize_google(audio))\n",
    " \n",
    "except sr.UnknownValueError:\n",
    "    print(\"Google Speech Recognition could not understand audio\")\n",
    " \n",
    "except sr.RequestError as e:\n",
    "    print(\"Could not request results from Google Speech  Recognition service; {0}\".format(e))\n"
   ]
  },
  {
   "cell_type": "code",
   "execution_count": 15,
   "metadata": {},
   "outputs": [
    {
     "ename": "ImportError",
     "evalue": "No module named pyaudio",
     "output_type": "error",
     "traceback": [
      "\u001b[1;31m\u001b[0m",
      "\u001b[1;31mImportError\u001b[0mTraceback (most recent call last)",
      "\u001b[1;32m<ipython-input-15-b37da17f237b>\u001b[0m in \u001b[0;36m<module>\u001b[1;34m()\u001b[0m\n\u001b[1;32m----> 1\u001b[1;33m \u001b[1;32mimport\u001b[0m \u001b[0mpyaudio\u001b[0m\u001b[1;33m\u001b[0m\u001b[0m\n\u001b[0m",
      "\u001b[1;31mImportError\u001b[0m: No module named pyaudio"
     ]
    }
   ],
   "source": [
    "import pyaudio"
   ]
  },
  {
   "cell_type": "code",
   "execution_count": 17,
   "metadata": {},
   "outputs": [
    {
     "ename": "NameError",
     "evalue": "name 'device_id' is not defined",
     "output_type": "error",
     "traceback": [
      "\u001b[1;31m\u001b[0m",
      "\u001b[1;31mNameError\u001b[0mTraceback (most recent call last)",
      "\u001b[1;32m<ipython-input-17-2d27f0fc2832>\u001b[0m in \u001b[0;36m<module>\u001b[1;34m()\u001b[0m\n\u001b[0;32m     28\u001b[0m \u001b[1;31m#which device ID to specifically look for incase the microphone\u001b[0m\u001b[1;33m\u001b[0m\u001b[1;33m\u001b[0m\u001b[0m\n\u001b[0;32m     29\u001b[0m \u001b[1;31m#is not working, an error will pop up saying \"device_id undefined\"\u001b[0m\u001b[1;33m\u001b[0m\u001b[1;33m\u001b[0m\u001b[0m\n\u001b[1;32m---> 30\u001b[1;33m with sr.Microphone(device_index = device_id, sample_rate = sample_rate, \n\u001b[0m\u001b[0;32m     31\u001b[0m                         chunk_size = chunk_size) as source:\n\u001b[0;32m     32\u001b[0m     \u001b[1;31m#wait for a second to let the recognizer adjust the\u001b[0m\u001b[1;33m\u001b[0m\u001b[1;33m\u001b[0m\u001b[0m\n",
      "\u001b[1;31mNameError\u001b[0m: name 'device_id' is not defined"
     ]
    }
   ],
   "source": [
    "#Python 2.x program for Speech Recognition\n",
    " \n",
    "import speech_recognition as sr\n",
    " \n",
    "#enter the name of usb microphone that you found\n",
    "#using lsusb\n",
    "#the following name is only used as an example\n",
    "mic_name = \"USB Device 0x46d:0x825: Audio (hw:1, 0)\"\n",
    "#Sample rate is how often values are recorded\n",
    "sample_rate = 48000\n",
    "#Chunk is like a buffer. It stores 2048 samples (bytes of data)\n",
    "#here. \n",
    "#it is advisable to use powers of 2 such as 1024 or 2048\n",
    "chunk_size = 2048\n",
    "#Initialize the recognizer\n",
    "r = sr.Recognizer()\n",
    " \n",
    "#generate a list of all audio cards/microphones\n",
    "mic_list = sr.Microphone.list_microphone_names()\n",
    " \n",
    "#the following loop aims to set the device ID of the mic that\n",
    "#we specifically want to use to avoid ambiguity.\n",
    "for i, microphone_name in enumerate(mic_list):\n",
    "    if microphone_name == mic_name:\n",
    "        device_id = i\n",
    " \n",
    "#use the microphone as source for input. Here, we also specify \n",
    "#which device ID to specifically look for incase the microphone \n",
    "#is not working, an error will pop up saying \"device_id undefined\"\n",
    "with sr.Microphone(device_index = device_id, sample_rate = sample_rate, \n",
    "                        chunk_size = chunk_size) as source:\n",
    "    #wait for a second to let the recognizer adjust the \n",
    "    #energy threshold based on the surrounding noise level\n",
    "    r.adjust_for_ambient_noise(source)\n",
    "    print \"Say Something\"\n",
    "    #listens for the user's input\n",
    "    audio = r.listen(source)\n",
    "         \n",
    "    try:\n",
    "        text = r.recognize_google(audio)\n",
    "        print \"you said: \" + text\n",
    "     \n",
    "    #error occurs when google could not understand what was said\n",
    "     \n",
    "    except sr.UnknownValueError:\n",
    "        print(\"Google Speech Recognition could not understand audio\")\n",
    "     \n",
    "    except sr.RequestError as e:\n",
    "        print(\"Could not request results from Google  Speech Recognition service; {0}\".format(e))"
   ]
  },
  {
   "cell_type": "code",
   "execution_count": 10,
   "metadata": {},
   "outputs": [
    {
     "ename": "AttributeError",
     "evalue": "Could not find PyAudio; check installation",
     "output_type": "error",
     "traceback": [
      "\u001b[1;31m\u001b[0m",
      "\u001b[1;31mAttributeError\u001b[0mTraceback (most recent call last)",
      "\u001b[1;32m<ipython-input-10-c2ec2da1331d>\u001b[0m in \u001b[0;36m<module>\u001b[1;34m()\u001b[0m\n\u001b[0;32m      1\u001b[0m \u001b[1;32mimport\u001b[0m \u001b[0mspeech_recognition\u001b[0m \u001b[1;32mas\u001b[0m \u001b[0msr\u001b[0m\u001b[1;33m\u001b[0m\u001b[0m\n\u001b[1;32m----> 2\u001b[1;33m \u001b[1;32mfor\u001b[0m \u001b[0mindex\u001b[0m\u001b[1;33m,\u001b[0m \u001b[0mname\u001b[0m \u001b[1;32min\u001b[0m \u001b[0menumerate\u001b[0m\u001b[1;33m(\u001b[0m\u001b[0msr\u001b[0m\u001b[1;33m.\u001b[0m\u001b[0mMicrophone\u001b[0m\u001b[1;33m.\u001b[0m\u001b[0mlist_microphone_names\u001b[0m\u001b[1;33m(\u001b[0m\u001b[1;33m)\u001b[0m\u001b[1;33m)\u001b[0m\u001b[1;33m:\u001b[0m\u001b[1;33m\u001b[0m\u001b[0m\n\u001b[0m\u001b[0;32m      3\u001b[0m     \u001b[1;32mprint\u001b[0m\u001b[1;33m(\u001b[0m\u001b[1;34m\"Microphone with name \\\"{1}\\\" found for `Microphone(device_index={0})`\"\u001b[0m\u001b[1;33m.\u001b[0m\u001b[0mformat\u001b[0m\u001b[1;33m(\u001b[0m\u001b[0mindex\u001b[0m\u001b[1;33m,\u001b[0m \u001b[0mname\u001b[0m\u001b[1;33m)\u001b[0m\u001b[1;33m)\u001b[0m\u001b[1;33m\u001b[0m\u001b[0m\n",
      "\u001b[1;32mC:\\Users\\Shubhi Tyagi\\AppData\\Local\\Continuum\\Anaconda\\lib\\site-packages\\speech_recognition\\__init__.pyc\u001b[0m in \u001b[0;36mlist_microphone_names\u001b[1;34m()\u001b[0m\n\u001b[0;32m    121\u001b[0m         \u001b[0mThe\u001b[0m \u001b[0mindex\u001b[0m \u001b[0mof\u001b[0m \u001b[0meach\u001b[0m \u001b[0mmicrophone\u001b[0m\u001b[0;31m'\u001b[0m\u001b[0ms\u001b[0m \u001b[0mname\u001b[0m \u001b[1;32mis\u001b[0m \u001b[0mthe\u001b[0m \u001b[0msame\u001b[0m \u001b[1;32mas\u001b[0m \u001b[0mits\u001b[0m \u001b[0mdevice\u001b[0m \u001b[0mindex\u001b[0m \u001b[0mwhen\u001b[0m \u001b[0mcreating\u001b[0m \u001b[0ma\u001b[0m \u001b[1;33m`\u001b[0m\u001b[1;33m`\u001b[0m\u001b[0mMicrophone\u001b[0m\u001b[1;33m`\u001b[0m\u001b[1;33m`\u001b[0m \u001b[0minstance\u001b[0m \u001b[1;33m-\u001b[0m \u001b[0mindices\u001b[0m \u001b[1;32min\u001b[0m \u001b[0mthis\u001b[0m \u001b[0mlist\u001b[0m \u001b[0mcan\u001b[0m \u001b[0mbe\u001b[0m \u001b[0mused\u001b[0m \u001b[1;32mas\u001b[0m \u001b[0mvalues\u001b[0m \u001b[0mof\u001b[0m \u001b[1;33m`\u001b[0m\u001b[1;33m`\u001b[0m\u001b[0mdevice_index\u001b[0m\u001b[1;33m`\u001b[0m\u001b[1;33m`\u001b[0m\u001b[1;33m.\u001b[0m\u001b[1;33m\u001b[0m\u001b[0m\n\u001b[0;32m    122\u001b[0m         \"\"\"\n\u001b[1;32m--> 123\u001b[1;33m         \u001b[0maudio\u001b[0m \u001b[1;33m=\u001b[0m \u001b[0mMicrophone\u001b[0m\u001b[1;33m.\u001b[0m\u001b[0mget_pyaudio\u001b[0m\u001b[1;33m(\u001b[0m\u001b[1;33m)\u001b[0m\u001b[1;33m.\u001b[0m\u001b[0mPyAudio\u001b[0m\u001b[1;33m(\u001b[0m\u001b[1;33m)\u001b[0m\u001b[1;33m\u001b[0m\u001b[0m\n\u001b[0m\u001b[0;32m    124\u001b[0m         \u001b[1;32mtry\u001b[0m\u001b[1;33m:\u001b[0m\u001b[1;33m\u001b[0m\u001b[0m\n\u001b[0;32m    125\u001b[0m             \u001b[0mresult\u001b[0m \u001b[1;33m=\u001b[0m \u001b[1;33m[\u001b[0m\u001b[1;33m]\u001b[0m\u001b[1;33m\u001b[0m\u001b[0m\n",
      "\u001b[1;32mC:\\Users\\Shubhi Tyagi\\AppData\\Local\\Continuum\\Anaconda\\lib\\site-packages\\speech_recognition\\__init__.pyc\u001b[0m in \u001b[0;36mget_pyaudio\u001b[1;34m()\u001b[0m\n\u001b[0;32m    108\u001b[0m             \u001b[1;32mimport\u001b[0m \u001b[0mpyaudio\u001b[0m\u001b[1;33m\u001b[0m\u001b[0m\n\u001b[0;32m    109\u001b[0m         \u001b[1;32mexcept\u001b[0m \u001b[0mImportError\u001b[0m\u001b[1;33m:\u001b[0m\u001b[1;33m\u001b[0m\u001b[0m\n\u001b[1;32m--> 110\u001b[1;33m             \u001b[1;32mraise\u001b[0m \u001b[0mAttributeError\u001b[0m\u001b[1;33m(\u001b[0m\u001b[1;34m\"Could not find PyAudio; check installation\"\u001b[0m\u001b[1;33m)\u001b[0m\u001b[1;33m\u001b[0m\u001b[0m\n\u001b[0m\u001b[0;32m    111\u001b[0m         \u001b[1;32mfrom\u001b[0m \u001b[0mdistutils\u001b[0m\u001b[1;33m.\u001b[0m\u001b[0mversion\u001b[0m \u001b[1;32mimport\u001b[0m \u001b[0mLooseVersion\u001b[0m\u001b[1;33m\u001b[0m\u001b[0m\n\u001b[0;32m    112\u001b[0m         \u001b[1;32mif\u001b[0m \u001b[0mLooseVersion\u001b[0m\u001b[1;33m(\u001b[0m\u001b[0mpyaudio\u001b[0m\u001b[1;33m.\u001b[0m\u001b[0m__version__\u001b[0m\u001b[1;33m)\u001b[0m \u001b[1;33m<\u001b[0m \u001b[0mLooseVersion\u001b[0m\u001b[1;33m(\u001b[0m\u001b[1;34m\"0.2.11\"\u001b[0m\u001b[1;33m)\u001b[0m\u001b[1;33m:\u001b[0m\u001b[1;33m\u001b[0m\u001b[0m\n",
      "\u001b[1;31mAttributeError\u001b[0m: Could not find PyAudio; check installation"
     ]
    }
   ],
   "source": [
    "import speech_recognition as sr\n",
    "for index, name in enumerate(sr.Microphone.list_microphone_names()):\n",
    "    print(\"Microphone with name \\\"{1}\\\" found for `Microphone(device_index={0})`\".format(index, name))"
   ]
  },
  {
   "cell_type": "markdown",
   "metadata": {},
   "source": [
    "Take 3"
   ]
  },
  {
   "cell_type": "code",
   "execution_count": 4,
   "metadata": {},
   "outputs": [
    {
     "name": "stdout",
     "output_type": "stream",
     "text": [
      "A moment of silence\n",
      "Say something!\n",
      "Trying to recognize audio\n",
      "You just said bio is stupid\n",
      "A moment of silence\n",
      "Say something!\n",
      "Trying to recognize audio\n",
      "You just said Google machine learning\n",
      "A moment of silence\n",
      "Say something!\n",
      "Trying to recognize audio\n",
      "You just said Google khul gaya\n",
      "A moment of silence\n",
      "Say something!\n",
      "Trying to recognize audio\n",
      "Google Speech Recognition could not understand audio\n",
      "A moment of silence\n",
      "Say something!\n",
      "Trying to recognize audio\n",
      "You just said Google Yeh Jawaani Hai Deewani\n",
      "A moment of silence\n",
      "Say something!\n",
      "Trying to recognize audio\n",
      "Google Speech Recognition could not understand audio\n",
      "A moment of silence\n",
      "Say something!\n",
      "Trying to recognize audio\n",
      "You just said open calculator\n",
      "A moment of silence\n",
      "Say something!\n",
      "Trying to recognize audio\n",
      "You just said close calculator\n",
      "A moment of silence\n",
      "Say something!\n",
      "Trying to recognize audio\n",
      "You just said close\n"
     ]
    }
   ],
   "source": [
    "import speech_recognition as sr\n",
    "import pafy\n",
    "from lxml import html\n",
    "import requests\n",
    "import webbrowser\n",
    "import os\n",
    "\n",
    "\n",
    "def myfun(total, recvd, ratio, rate, eta):\n",
    "    print \"Downloaded : \",ratio*100,'%'\n",
    "mlist=[]\n",
    "loopme=1\n",
    "r = sr.Recognizer()\n",
    "while(loopme==1):\n",
    "    with sr.Microphone() as source:\n",
    "        print \"A moment of silence\"\n",
    "        r.adjust_for_ambient_noise(source, duration = 1)\n",
    "        print(\"Say something!\")\n",
    "        audio = r.listen(source)\n",
    "        print(\"Trying to recognize audio\")\n",
    "\n",
    "    try:\n",
    "        \n",
    "        t=r.recognize_google(audio)\n",
    "        print \"You just said \" +t\n",
    "        if(t.find(\"download\")!=-1):\n",
    "            le=t.find(\"download\")+len(\"download\")+1\n",
    "            t=t[le:]\n",
    "            with sr.Microphone() as source:\n",
    "                print \"A moment of silence\"\n",
    "                r.adjust_for_ambient_noise(source, duration = 1)\n",
    "                print \"Do you want to download\",t\n",
    "                audio = r.listen(source)\n",
    "                print(\"Trying to recognize audio\")\n",
    "                b=r.recognize_google(audio)\n",
    "                if(b.find(\"yes\")!=-1):                                              # Download youtube video\n",
    "                    print \"Downloading \",t\n",
    "                    q='https://www.youtube.com/results?search_query='+t\n",
    "                    page = requests.get(q)\n",
    "                    tree = html.fromstring(page.content)\n",
    "                    buyers = tree.xpath('//*[@id=\"results\"]/ol[1]/li[1]/ol[1]/li[1]/div[1]')\n",
    "                    a=buyers[0]\n",
    "                    p=a.get(\"data-context-item-id\")\n",
    "                    v=pafy.new(p)\n",
    "                    s=v.streams[2]\n",
    "                    #s=v.getbest(preftype=\"mp4\")                                  # Uncomment this for getting high quality video\n",
    "                    s.download(\"D:\\songs\",quiet=True,callback=myfun)                #Change your download location here\n",
    "                    print \"Finished downloading\"\n",
    "        elif(t.find(\"play\")!=-1):                                                   #Play youtube video\n",
    "            le=t.find(\"play\")+len(\"play\")+1\n",
    "            t=t[le:]\n",
    "            print \"Playing\",t\n",
    "            q='https://www.youtube.com/results?search_query='+t\n",
    "            page = requests.get(q)\n",
    "            tree = html.fromstring(page.content)\n",
    "            buyers = tree.xpath('//*[@id=\"results\"]/ol[1]/li[1]/ol[1]/li[1]/div[1]')\n",
    "            a=buyers[0]\n",
    "            p=a.get(\"data-context-item-id\")\n",
    "            webbrowser.open(\"https://www.youtube.com/watch?v=\"+p)\n",
    "            \n",
    "        elif(t.find(\"open\")!=-1):                                                   # Open windows application\n",
    "            le=t.find(\"open\")+len(\"open\")+1\n",
    "            t=t[le:]\n",
    "            if(t==\"calculator\" or t==\"Calculator\"):\n",
    "                os.system(\"start calc.exe\")\n",
    "                mlist.append(\"calc.exe\")\n",
    "            elif(t==\"Notepad\" or t==\"notepad\"):\n",
    "                os.system(\"start notepad.exe\")\n",
    "                mlist.append(\"notepad.exe\")\n",
    "            elif(t==\"Paint\" or t==\"paint\"):\n",
    "                os.system(\"start mspaint.exe\")\n",
    "                mlist.append(\"mspaint.exe\")\n",
    "            #elif(t==\"Excel\" or t==\"excel\"):\n",
    "                #os.system(\"start ‪C:\\ProgramData\\Microsoft\\Windows\\Start Menu\\Programs\\Microsoft Office 2013\\Excel 2013.lnk\")\n",
    "                #mlist.append(\"‪C:\\ProgramData\\Microsoft\\Windows\\Start Menu\\Programs\\Microsoft Office 2013\\Excel 2013.lnk\") \n",
    "            elif((t.find(\"Chrome\")!=-1) or (t.find(\"chrome\")!=-1)):\n",
    "                os.system(\"start C:\\Users\\user\\AppData\\Local\\Google\\Chrome\\Application\\chrome.exe\")\n",
    "                mlist.append(\"C:\\Users\\user\\AppData\\Local\\Google\\Chrome\\Application\\chrome.exe\")\n",
    "            \n",
    "        elif(t.find(\"close\")!=-1):                                                  # Close windows application\n",
    "            le=t.find(\"close\")+len(\"close\")+1\n",
    "            t=t[le:]\n",
    "            try:\n",
    "                if(t==\"calculator\" or t==\"Calculator\"):\n",
    "                    mlist.index(\"calc.exe\")\n",
    "                    os.system(\"taskkill /F /IM calc.exe\")\n",
    "                    mlist.remove(\"calc.exe\")\n",
    "                elif(t==\"Notepad\" or t==\"notepad\"):\n",
    "                    mlist.index(\"notepad.exe\")\n",
    "                    os.system(\"taskkill /F /IM notepad.exe\")\n",
    "                    mlist.remove(\"notepad.exe\")\n",
    "                elif(t==\"Paint\" or t==\"paint\"):\n",
    "                    mlist.index(\"mspaint.exe\")\n",
    "                    os.system(\"taskkill /F /IM mspaint.exe\")\n",
    "                    mlist.remove(\"mspaint.exe\")\n",
    "                \n",
    "                else:\n",
    "                    loopme=0\n",
    "                \n",
    "            except:\n",
    "                    print \"Could not close the application\"\n",
    "                \n",
    "        elif (t.find(\"Google\")!=-1 ):                                            \n",
    "            le=t.find(\"Google\")+len(\"Google\")+1\n",
    "            t=t[le:]\n",
    "            webbrowser.open(\"https://www.google.co.in/search?q=\"+t)\n",
    "            \n",
    "    except sr.UnknownValueError:\n",
    "        print(\"Google Speech Recognition could not understand audio\")\n",
    "        loopme=1\n",
    "    except sr.RequestError as e:\n",
    "        print(\"Could not request results from Google Speech Recognition service; {0}\".format(e))"
   ]
  },
  {
   "cell_type": "code",
   "execution_count": null,
   "metadata": {
    "collapsed": true
   },
   "outputs": [],
   "source": []
  }
 ],
 "metadata": {
  "kernelspec": {
   "display_name": "Python 2",
   "language": "python",
   "name": "python2"
  },
  "language_info": {
   "codemirror_mode": {
    "name": "ipython",
    "version": 2
   },
   "file_extension": ".py",
   "mimetype": "text/x-python",
   "name": "python",
   "nbconvert_exporter": "python",
   "pygments_lexer": "ipython2",
   "version": "2.7.13"
  }
 },
 "nbformat": 4,
 "nbformat_minor": 2
}
